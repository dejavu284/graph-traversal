{
 "cells": [
  {
   "cell_type": "code",
   "execution_count": 23,
   "metadata": {},
   "outputs": [],
   "source": [
    "def printDict(Dict):\n",
    "    for i in Dict:\n",
    "        print(f'{i}: {Dict[i]}')"
   ]
  },
  {
   "cell_type": "code",
   "execution_count": 27,
   "metadata": {},
   "outputs": [],
   "source": [
    "d = [11, 22, 33, 44, 55, 66, 77]"
   ]
  },
  {
   "cell_type": "code",
   "execution_count": 29,
   "metadata": {},
   "outputs": [],
   "source": [
    "st = '11 22 33 44 55 66 77'\n",
    "d = st.split(' ')"
   ]
  },
  {
   "cell_type": "code",
   "execution_count": 24,
   "metadata": {},
   "outputs": [
    {
     "data": {
      "text/plain": [
       "['11', '22', '33', '44', '55', '66', '77']"
      ]
     },
     "execution_count": 24,
     "metadata": {},
     "output_type": "execute_result"
    }
   ],
   "source": [
    "d"
   ]
  },
  {
   "cell_type": "code",
   "execution_count": 30,
   "metadata": {},
   "outputs": [
    {
     "name": "stdout",
     "output_type": "stream",
     "text": [
      "{'0': 11, '1': 22, '2': 33, '3': 44, '4': 55, '5': 66, '6': 77}\n"
     ]
    }
   ],
   "source": [
    "f = {}\n",
    "for i in range(len(d)):\n",
    "    f[f'{i}'] = int(d[i])\n",
    "\n",
    "print(f)"
   ]
  },
  {
   "cell_type": "code",
   "execution_count": 10,
   "metadata": {},
   "outputs": [],
   "source": [
    "test_dict = {'1': [2, 4], '2': [3, 4, 5], '3': [5, 6]}"
   ]
  },
  {
   "cell_type": "code",
   "execution_count": 19,
   "metadata": {},
   "outputs": [
    {
     "name": "stdout",
     "output_type": "stream",
     "text": [
      "1\n",
      "4\n"
     ]
    }
   ],
   "source": [
    "for a in test_dict[d]:\n",
    "    print(a)"
   ]
  },
  {
   "cell_type": "code",
   "execution_count": 5,
   "metadata": {},
   "outputs": [],
   "source": [
    "def stack(arr, item):\n",
    "    arr.append(item)\n",
    "\n",
    "\n",
    "def pop(arr):\n",
    "    if len(arr) != 0:\n",
    "        item = arr[-1]\n",
    "        arr.pop(-1)\n",
    "        return item"
   ]
  },
  {
   "cell_type": "code",
   "execution_count": 62,
   "metadata": {},
   "outputs": [
    {
     "data": {
      "text/plain": [
       "'2'"
      ]
     },
     "execution_count": 62,
     "metadata": {},
     "output_type": "execute_result"
    }
   ],
   "source": [
    "p['6']"
   ]
  },
  {
   "cell_type": "code",
   "execution_count": 22,
   "metadata": {},
   "outputs": [
    {
     "data": {
      "text/plain": [
       "['2', '4', '1']"
      ]
     },
     "execution_count": 22,
     "metadata": {},
     "output_type": "execute_result"
    }
   ],
   "source": [
    "p = {'1': None, '2': '4', '3': '1', '4': '1', '5': '1', '6': '2'}\n",
    "arr = []\n",
    "recur('6')\n",
    "arr"
   ]
  },
  {
   "cell_type": "code",
   "execution_count": 12,
   "metadata": {},
   "outputs": [],
   "source": [
    "def recur(item):\n",
    "    temp = p[item]\n",
    "    if temp is not None:\n",
    "        stack(arr, p[item])\n",
    "        recur(p[item])\n",
    "    else: return 1\n",
    "    "
   ]
  },
  {
   "cell_type": "code",
   "execution_count": null,
   "metadata": {},
   "outputs": [],
   "source": []
  },
  {
   "cell_type": "code",
   "execution_count": 35,
   "metadata": {},
   "outputs": [
    {
     "data": {
      "text/plain": [
       "\"1: ['2', '5']\\n2: ['6', '1']\\n3: ['1', '4']\\n\""
      ]
     },
     "execution_count": 35,
     "metadata": {},
     "output_type": "execute_result"
    }
   ],
   "source": [
    "test_dict = {'1': {'2': '3', '5': '4'}, '2': {'6': '13', '1': '33'}, '3': {'1': '5', '4': '6'}}\n",
    "string =''\n",
    "temp_str = list()\n",
    "\n",
    "for d in test_dict:\n",
    "    for a in test_dict[d]:\n",
    "        temp_str.append(a)\n",
    "        \n",
    "    string += f'{d}: {temp_str}'\n",
    "    string += '\\n'\n",
    "    temp_str = list()\n",
    "\n",
    "string"
   ]
  },
  {
   "cell_type": "code",
   "execution_count": 12,
   "metadata": {},
   "outputs": [
    {
     "data": {
      "text/plain": [
       "'1: [2, 4]\\n2: [3, 4, 5]\\n3: [5, 6]\\n'"
      ]
     },
     "execution_count": 12,
     "metadata": {},
     "output_type": "execute_result"
    }
   ],
   "source": [
    "string"
   ]
  },
  {
   "cell_type": "code",
   "execution_count": 5,
   "metadata": {},
   "outputs": [],
   "source": [
    "f = '1101'\n",
    "s = '111'"
   ]
  },
  {
   "cell_type": "code",
   "execution_count": 9,
   "metadata": {},
   "outputs": [
    {
     "data": {
      "text/plain": [
       "nan"
      ]
     },
     "execution_count": 9,
     "metadata": {},
     "output_type": "execute_result"
    }
   ],
   "source": [
    "float('inf') / float('inf')"
   ]
  },
  {
   "cell_type": "code",
   "execution_count": 7,
   "metadata": {},
   "outputs": [],
   "source": [
    "if type(f) is str or type(s) is str:\n",
    "            f = int(f)\n",
    "            s = int(s)"
   ]
  },
  {
   "cell_type": "code",
   "execution_count": 8,
   "metadata": {},
   "outputs": [
    {
     "data": {
      "text/plain": [
       "(int, int)"
      ]
     },
     "execution_count": 8,
     "metadata": {},
     "output_type": "execute_result"
    }
   ],
   "source": [
    "type(s), type(f)"
   ]
  },
  {
   "cell_type": "code",
   "execution_count": 1,
   "metadata": {},
   "outputs": [],
   "source": [
    "d = {'1': [2, 4], '2': [3, 4, 5], '3': [5, 6]}"
   ]
  },
  {
   "cell_type": "code",
   "execution_count": 4,
   "metadata": {},
   "outputs": [
    {
     "name": "stdout",
     "output_type": "stream",
     "text": [
      "[2, 4, 3]\n",
      "[3, 4, 5]\n",
      "[5, 6]\n"
     ]
    }
   ],
   "source": [
    "for i in d:\n",
    "    print(d[i])"
   ]
  },
  {
   "cell_type": "code",
   "execution_count": 2,
   "metadata": {},
   "outputs": [
    {
     "data": {
      "text/plain": [
       "{'1': [2, 4, 3], '2': [3, 4, 5], '3': [5, 6]}"
      ]
     },
     "execution_count": 2,
     "metadata": {},
     "output_type": "execute_result"
    }
   ],
   "source": [
    "d['1'].append(3)\n",
    "d"
   ]
  },
  {
   "cell_type": "code",
   "execution_count": 25,
   "metadata": {},
   "outputs": [
    {
     "name": "stdout",
     "output_type": "stream",
     "text": [
      "1: [2, 4]\n",
      "2: [3, 4, 5]\n",
      "3: [5, 6]\n"
     ]
    }
   ],
   "source": [
    "printDict(d)"
   ]
  },
  {
   "cell_type": "code",
   "execution_count": 41,
   "metadata": {},
   "outputs": [],
   "source": [
    "b = dict()\n",
    "for i in range(5):\n",
    "    b[f'{i+1}'] = [i**i, i*i, i+i, 5+i]"
   ]
  },
  {
   "cell_type": "code",
   "execution_count": 42,
   "metadata": {},
   "outputs": [
    {
     "name": "stdout",
     "output_type": "stream",
     "text": [
      "1: [1, 0, 0, 5]\n",
      "2: [1, 1, 2, 6]\n",
      "3: [4, 4, 4, 7]\n",
      "4: [27, 9, 6, 8]\n",
      "5: [256, 16, 8, 9]\n"
     ]
    }
   ],
   "source": [
    "\n",
    "printDict(b)"
   ]
  },
  {
   "cell_type": "code",
   "execution_count": 3,
   "metadata": {},
   "outputs": [
    {
     "name": "stdout",
     "output_type": "stream",
     "text": [
      "2\n"
     ]
    }
   ],
   "source": [
    "d = dequeue([])\n",
    "if d is not None:\n",
    "    print('1')\n",
    "else: print('2')"
   ]
  },
  {
   "cell_type": "code",
   "execution_count": 4,
   "metadata": {},
   "outputs": [],
   "source": [
    "def queue(arr, item):\n",
    "    arr.append(item)\n",
    "\n",
    "\n",
    "def dequeue(arr):\n",
    "    if len(arr) != 0:\n",
    "        item = arr[0]\n",
    "        arr.pop(0)\n",
    "        return item"
   ]
  },
  {
   "cell_type": "code",
   "execution_count": 7,
   "metadata": {},
   "outputs": [
    {
     "data": {
      "text/plain": [
       "([1, 2, 3, 4, 6], [], [1, 2, 3, 4, 6])"
      ]
     },
     "execution_count": 7,
     "metadata": {},
     "output_type": "execute_result"
    }
   ],
   "source": [
    "def queue(arr, item):\n",
    "    arr.append(item)\n",
    "\n",
    "\n",
    "def dequeue(arr):\n",
    "    if len(arr) != 0:\n",
    "        item = arr[0]\n",
    "        arr.pop(0)\n",
    "        return item\n",
    "\n",
    "\n",
    "def recursion(d, traversal, checked, queue1, Dict):\n",
    "    if int(d) not in traversal:\n",
    "        traversal.append(int(d))\n",
    "    if int(d) not in checked:\n",
    "        checked.append(int(d))\n",
    "    for i in Dict[d]:\n",
    "        if int(i) not in checked:\n",
    "            queue(queue1, int(i))\n",
    "            checked.append(int(i))\n",
    "    d = str(dequeue(queue1))\n",
    "    if d != 'None':\n",
    "        recursion(d, traversal, checked, queue1, Dict)\n",
    "\n",
    "\n",
    "queue1 = []; traversal = []; checked = []\n",
    "Dict = {'1': ['2', '3', '4', '6'], '2': ['1', '4'], '3': ['1', '4', '6'], '4': ['1', '2', '3'], '5': [], '6': ['1', '3']}\n",
    "d = '1'\n",
    "\n",
    "recursion(d, traversal, checked, queue1, Dict)\n",
    "traversal, queue1, checked"
   ]
  }
 ],
 "metadata": {
  "kernelspec": {
   "display_name": "base",
   "language": "python",
   "name": "python3"
  },
  "language_info": {
   "codemirror_mode": {
    "name": "ipython",
    "version": 3
   },
   "file_extension": ".py",
   "mimetype": "text/x-python",
   "name": "python",
   "nbconvert_exporter": "python",
   "pygments_lexer": "ipython3",
   "version": "3.10.10"
  },
  "orig_nbformat": 4
 },
 "nbformat": 4,
 "nbformat_minor": 2
}
